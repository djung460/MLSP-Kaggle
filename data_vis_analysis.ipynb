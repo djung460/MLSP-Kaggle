{
 "cells": [
  {
   "cell_type": "code",
   "execution_count": 1,
   "metadata": {
    "collapsed": false
   },
   "outputs": [],
   "source": [
    "import pandas as pd\n",
    "import seaborn as sns\n",
    "from pandas import Series, DataFrame\n",
    "\n",
    "from sklearn.decomposition import PCA\n",
    "\n",
    "import numpy as np\n",
    "import matplotlib.pyplot as plt\n",
    "from mpl_toolkits.mplot3d import Axes3D\n",
    "from mpl_toolkits.mplot3d import proj3d\n",
    "%matplotlib inline"
   ]
  },
  {
   "cell_type": "code",
   "execution_count": 2,
   "metadata": {
    "collapsed": true
   },
   "outputs": [],
   "source": [
    "# Load data\n",
    "fnc_df_unlabeled = pd.read_csv('train_FNC.csv')\n",
    "sbm_df_unlabeled = pd.read_csv('train_SBM.csv')\n",
    "labels = pd.read_csv('train_labels.csv')"
   ]
  },
  {
   "cell_type": "code",
   "execution_count": 3,
   "metadata": {
    "collapsed": false
   },
   "outputs": [
    {
     "data": {
      "text/html": [
       "<div>\n",
       "<table border=\"1\" class=\"dataframe\">\n",
       "  <thead>\n",
       "    <tr style=\"text-align: right;\">\n",
       "      <th></th>\n",
       "      <th>Id</th>\n",
       "      <th>Class</th>\n",
       "      <th>FNC1</th>\n",
       "      <th>FNC2</th>\n",
       "      <th>FNC3</th>\n",
       "      <th>FNC4</th>\n",
       "      <th>FNC5</th>\n",
       "      <th>FNC6</th>\n",
       "      <th>FNC7</th>\n",
       "      <th>FNC8</th>\n",
       "      <th>...</th>\n",
       "      <th>FNC369</th>\n",
       "      <th>FNC370</th>\n",
       "      <th>FNC371</th>\n",
       "      <th>FNC372</th>\n",
       "      <th>FNC373</th>\n",
       "      <th>FNC374</th>\n",
       "      <th>FNC375</th>\n",
       "      <th>FNC376</th>\n",
       "      <th>FNC377</th>\n",
       "      <th>FNC378</th>\n",
       "    </tr>\n",
       "  </thead>\n",
       "  <tbody>\n",
       "    <tr>\n",
       "      <th>0</th>\n",
       "      <td>120873</td>\n",
       "      <td>1</td>\n",
       "      <td>0.34312</td>\n",
       "      <td>0.045761</td>\n",
       "      <td>-0.13112</td>\n",
       "      <td>0.15034</td>\n",
       "      <td>0.18082</td>\n",
       "      <td>0.289160</td>\n",
       "      <td>0.069545</td>\n",
       "      <td>-0.052489</td>\n",
       "      <td>...</td>\n",
       "      <td>0.18743</td>\n",
       "      <td>0.163770</td>\n",
       "      <td>0.17686</td>\n",
       "      <td>0.074728</td>\n",
       "      <td>0.148600</td>\n",
       "      <td>0.343230</td>\n",
       "      <td>0.17565</td>\n",
       "      <td>0.52035</td>\n",
       "      <td>0.030613</td>\n",
       "      <td>0.30774</td>\n",
       "    </tr>\n",
       "    <tr>\n",
       "      <th>1</th>\n",
       "      <td>135376</td>\n",
       "      <td>0</td>\n",
       "      <td>0.28790</td>\n",
       "      <td>0.102570</td>\n",
       "      <td>-0.32343</td>\n",
       "      <td>-0.22776</td>\n",
       "      <td>0.12328</td>\n",
       "      <td>0.367020</td>\n",
       "      <td>-0.084040</td>\n",
       "      <td>0.038793</td>\n",
       "      <td>...</td>\n",
       "      <td>0.59834</td>\n",
       "      <td>-0.477880</td>\n",
       "      <td>0.26634</td>\n",
       "      <td>0.582940</td>\n",
       "      <td>-0.041272</td>\n",
       "      <td>0.630050</td>\n",
       "      <td>0.70314</td>\n",
       "      <td>0.36383</td>\n",
       "      <td>-0.207880</td>\n",
       "      <td>0.64138</td>\n",
       "    </tr>\n",
       "    <tr>\n",
       "      <th>2</th>\n",
       "      <td>139149</td>\n",
       "      <td>0</td>\n",
       "      <td>0.24585</td>\n",
       "      <td>0.216620</td>\n",
       "      <td>-0.12468</td>\n",
       "      <td>-0.35380</td>\n",
       "      <td>0.16150</td>\n",
       "      <td>-0.002032</td>\n",
       "      <td>-0.133020</td>\n",
       "      <td>-0.035222</td>\n",
       "      <td>...</td>\n",
       "      <td>0.22866</td>\n",
       "      <td>-0.000816</td>\n",
       "      <td>0.25860</td>\n",
       "      <td>0.280450</td>\n",
       "      <td>-0.644640</td>\n",
       "      <td>0.332440</td>\n",
       "      <td>0.87074</td>\n",
       "      <td>-0.10973</td>\n",
       "      <td>-0.679160</td>\n",
       "      <td>0.32316</td>\n",
       "    </tr>\n",
       "    <tr>\n",
       "      <th>3</th>\n",
       "      <td>146791</td>\n",
       "      <td>0</td>\n",
       "      <td>0.42090</td>\n",
       "      <td>0.331380</td>\n",
       "      <td>0.24453</td>\n",
       "      <td>0.17167</td>\n",
       "      <td>0.59223</td>\n",
       "      <td>0.431050</td>\n",
       "      <td>0.280290</td>\n",
       "      <td>0.289620</td>\n",
       "      <td>...</td>\n",
       "      <td>0.42881</td>\n",
       "      <td>0.711570</td>\n",
       "      <td>0.56593</td>\n",
       "      <td>0.248560</td>\n",
       "      <td>0.153860</td>\n",
       "      <td>0.093171</td>\n",
       "      <td>0.62556</td>\n",
       "      <td>0.60391</td>\n",
       "      <td>-0.058301</td>\n",
       "      <td>0.10779</td>\n",
       "    </tr>\n",
       "    <tr>\n",
       "      <th>4</th>\n",
       "      <td>153870</td>\n",
       "      <td>1</td>\n",
       "      <td>-0.14621</td>\n",
       "      <td>-0.468630</td>\n",
       "      <td>-0.52880</td>\n",
       "      <td>-0.50381</td>\n",
       "      <td>-0.51052</td>\n",
       "      <td>-0.029113</td>\n",
       "      <td>-0.015192</td>\n",
       "      <td>0.360170</td>\n",
       "      <td>...</td>\n",
       "      <td>0.41688</td>\n",
       "      <td>-0.435600</td>\n",
       "      <td>0.32104</td>\n",
       "      <td>0.392960</td>\n",
       "      <td>-0.842430</td>\n",
       "      <td>0.425080</td>\n",
       "      <td>0.86509</td>\n",
       "      <td>-0.31281</td>\n",
       "      <td>-0.829640</td>\n",
       "      <td>0.24307</td>\n",
       "    </tr>\n",
       "  </tbody>\n",
       "</table>\n",
       "<p>5 rows × 380 columns</p>\n",
       "</div>"
      ],
      "text/plain": [
       "       Id  Class     FNC1      FNC2     FNC3     FNC4     FNC5      FNC6  \\\n",
       "0  120873      1  0.34312  0.045761 -0.13112  0.15034  0.18082  0.289160   \n",
       "1  135376      0  0.28790  0.102570 -0.32343 -0.22776  0.12328  0.367020   \n",
       "2  139149      0  0.24585  0.216620 -0.12468 -0.35380  0.16150 -0.002032   \n",
       "3  146791      0  0.42090  0.331380  0.24453  0.17167  0.59223  0.431050   \n",
       "4  153870      1 -0.14621 -0.468630 -0.52880 -0.50381 -0.51052 -0.029113   \n",
       "\n",
       "       FNC7      FNC8   ...      FNC369    FNC370   FNC371    FNC372  \\\n",
       "0  0.069545 -0.052489   ...     0.18743  0.163770  0.17686  0.074728   \n",
       "1 -0.084040  0.038793   ...     0.59834 -0.477880  0.26634  0.582940   \n",
       "2 -0.133020 -0.035222   ...     0.22866 -0.000816  0.25860  0.280450   \n",
       "3  0.280290  0.289620   ...     0.42881  0.711570  0.56593  0.248560   \n",
       "4 -0.015192  0.360170   ...     0.41688 -0.435600  0.32104  0.392960   \n",
       "\n",
       "     FNC373    FNC374   FNC375   FNC376    FNC377   FNC378  \n",
       "0  0.148600  0.343230  0.17565  0.52035  0.030613  0.30774  \n",
       "1 -0.041272  0.630050  0.70314  0.36383 -0.207880  0.64138  \n",
       "2 -0.644640  0.332440  0.87074 -0.10973 -0.679160  0.32316  \n",
       "3  0.153860  0.093171  0.62556  0.60391 -0.058301  0.10779  \n",
       "4 -0.842430  0.425080  0.86509 -0.31281 -0.829640  0.24307  \n",
       "\n",
       "[5 rows x 380 columns]"
      ]
     },
     "execution_count": 3,
     "metadata": {},
     "output_type": "execute_result"
    }
   ],
   "source": [
    "# Label the data\n",
    "fnc_df_labeled = pd.concat([labels, fnc_df_unlabeled.drop('Id',1)], axis=1)\n",
    "fnc_df_labeled.head(5)"
   ]
  },
  {
   "cell_type": "code",
   "execution_count": 4,
   "metadata": {
    "collapsed": false
   },
   "outputs": [
    {
     "data": {
      "text/html": [
       "<div>\n",
       "<table border=\"1\" class=\"dataframe\">\n",
       "  <thead>\n",
       "    <tr style=\"text-align: right;\">\n",
       "      <th></th>\n",
       "      <th>Id</th>\n",
       "      <th>Class</th>\n",
       "      <th>SBM_map1</th>\n",
       "      <th>SBM_map2</th>\n",
       "      <th>SBM_map3</th>\n",
       "      <th>SBM_map4</th>\n",
       "      <th>SBM_map5</th>\n",
       "      <th>SBM_map6</th>\n",
       "      <th>SBM_map7</th>\n",
       "      <th>SBM_map8</th>\n",
       "      <th>...</th>\n",
       "      <th>SBM_map55</th>\n",
       "      <th>SBM_map61</th>\n",
       "      <th>SBM_map64</th>\n",
       "      <th>SBM_map67</th>\n",
       "      <th>SBM_map69</th>\n",
       "      <th>SBM_map71</th>\n",
       "      <th>SBM_map72</th>\n",
       "      <th>SBM_map73</th>\n",
       "      <th>SBM_map74</th>\n",
       "      <th>SBM_map75</th>\n",
       "    </tr>\n",
       "  </thead>\n",
       "  <tbody>\n",
       "    <tr>\n",
       "      <th>0</th>\n",
       "      <td>120873</td>\n",
       "      <td>1</td>\n",
       "      <td>0.725065</td>\n",
       "      <td>-0.639254</td>\n",
       "      <td>0.353069</td>\n",
       "      <td>-0.981707</td>\n",
       "      <td>-1.419971</td>\n",
       "      <td>-0.441321</td>\n",
       "      <td>-0.264192</td>\n",
       "      <td>0.711579</td>\n",
       "      <td>...</td>\n",
       "      <td>-0.078220</td>\n",
       "      <td>-0.982331</td>\n",
       "      <td>1.070363</td>\n",
       "      <td>0.220316</td>\n",
       "      <td>0.776855</td>\n",
       "      <td>-2.022404</td>\n",
       "      <td>1.203256</td>\n",
       "      <td>1.083516</td>\n",
       "      <td>0.564201</td>\n",
       "      <td>-0.002006</td>\n",
       "    </tr>\n",
       "    <tr>\n",
       "      <th>1</th>\n",
       "      <td>135376</td>\n",
       "      <td>0</td>\n",
       "      <td>-1.328855</td>\n",
       "      <td>0.502970</td>\n",
       "      <td>0.013232</td>\n",
       "      <td>1.128496</td>\n",
       "      <td>-0.070738</td>\n",
       "      <td>0.398476</td>\n",
       "      <td>-0.466051</td>\n",
       "      <td>-0.435455</td>\n",
       "      <td>...</td>\n",
       "      <td>0.989571</td>\n",
       "      <td>-0.057543</td>\n",
       "      <td>0.371701</td>\n",
       "      <td>-0.513081</td>\n",
       "      <td>-0.457550</td>\n",
       "      <td>1.476216</td>\n",
       "      <td>0.381052</td>\n",
       "      <td>0.163436</td>\n",
       "      <td>0.403782</td>\n",
       "      <td>-0.295125</td>\n",
       "    </tr>\n",
       "    <tr>\n",
       "      <th>2</th>\n",
       "      <td>139149</td>\n",
       "      <td>0</td>\n",
       "      <td>0.732268</td>\n",
       "      <td>-1.241554</td>\n",
       "      <td>0.654942</td>\n",
       "      <td>-0.289216</td>\n",
       "      <td>0.158316</td>\n",
       "      <td>0.029165</td>\n",
       "      <td>1.439242</td>\n",
       "      <td>-0.832816</td>\n",
       "      <td>...</td>\n",
       "      <td>-0.257114</td>\n",
       "      <td>0.597229</td>\n",
       "      <td>1.220756</td>\n",
       "      <td>-0.059213</td>\n",
       "      <td>-0.435494</td>\n",
       "      <td>-0.092971</td>\n",
       "      <td>1.090910</td>\n",
       "      <td>-0.448562</td>\n",
       "      <td>-0.508497</td>\n",
       "      <td>0.350434</td>\n",
       "    </tr>\n",
       "    <tr>\n",
       "      <th>3</th>\n",
       "      <td>146791</td>\n",
       "      <td>0</td>\n",
       "      <td>-0.343917</td>\n",
       "      <td>-1.052519</td>\n",
       "      <td>-1.150521</td>\n",
       "      <td>0.765989</td>\n",
       "      <td>0.923129</td>\n",
       "      <td>0.674052</td>\n",
       "      <td>-0.492673</td>\n",
       "      <td>1.282388</td>\n",
       "      <td>...</td>\n",
       "      <td>-0.295110</td>\n",
       "      <td>0.829697</td>\n",
       "      <td>-0.450726</td>\n",
       "      <td>-0.791032</td>\n",
       "      <td>-1.115821</td>\n",
       "      <td>-0.022296</td>\n",
       "      <td>-0.245844</td>\n",
       "      <td>-0.705539</td>\n",
       "      <td>0.061344</td>\n",
       "      <td>0.448966</td>\n",
       "    </tr>\n",
       "    <tr>\n",
       "      <th>4</th>\n",
       "      <td>153870</td>\n",
       "      <td>1</td>\n",
       "      <td>-0.208685</td>\n",
       "      <td>-0.562697</td>\n",
       "      <td>-0.362164</td>\n",
       "      <td>1.025571</td>\n",
       "      <td>0.151690</td>\n",
       "      <td>-0.130410</td>\n",
       "      <td>-1.105922</td>\n",
       "      <td>0.502029</td>\n",
       "      <td>...</td>\n",
       "      <td>1.342273</td>\n",
       "      <td>-0.978412</td>\n",
       "      <td>0.158492</td>\n",
       "      <td>0.889753</td>\n",
       "      <td>0.795368</td>\n",
       "      <td>0.738788</td>\n",
       "      <td>0.475415</td>\n",
       "      <td>2.340384</td>\n",
       "      <td>2.516038</td>\n",
       "      <td>-0.551440</td>\n",
       "    </tr>\n",
       "  </tbody>\n",
       "</table>\n",
       "<p>5 rows × 34 columns</p>\n",
       "</div>"
      ],
      "text/plain": [
       "       Id  Class  SBM_map1  SBM_map2  SBM_map3  SBM_map4  SBM_map5  SBM_map6  \\\n",
       "0  120873      1  0.725065 -0.639254  0.353069 -0.981707 -1.419971 -0.441321   \n",
       "1  135376      0 -1.328855  0.502970  0.013232  1.128496 -0.070738  0.398476   \n",
       "2  139149      0  0.732268 -1.241554  0.654942 -0.289216  0.158316  0.029165   \n",
       "3  146791      0 -0.343917 -1.052519 -1.150521  0.765989  0.923129  0.674052   \n",
       "4  153870      1 -0.208685 -0.562697 -0.362164  1.025571  0.151690 -0.130410   \n",
       "\n",
       "   SBM_map7  SBM_map8    ...      SBM_map55  SBM_map61  SBM_map64  SBM_map67  \\\n",
       "0 -0.264192  0.711579    ...      -0.078220  -0.982331   1.070363   0.220316   \n",
       "1 -0.466051 -0.435455    ...       0.989571  -0.057543   0.371701  -0.513081   \n",
       "2  1.439242 -0.832816    ...      -0.257114   0.597229   1.220756  -0.059213   \n",
       "3 -0.492673  1.282388    ...      -0.295110   0.829697  -0.450726  -0.791032   \n",
       "4 -1.105922  0.502029    ...       1.342273  -0.978412   0.158492   0.889753   \n",
       "\n",
       "   SBM_map69  SBM_map71  SBM_map72  SBM_map73  SBM_map74  SBM_map75  \n",
       "0   0.776855  -2.022404   1.203256   1.083516   0.564201  -0.002006  \n",
       "1  -0.457550   1.476216   0.381052   0.163436   0.403782  -0.295125  \n",
       "2  -0.435494  -0.092971   1.090910  -0.448562  -0.508497   0.350434  \n",
       "3  -1.115821  -0.022296  -0.245844  -0.705539   0.061344   0.448966  \n",
       "4   0.795368   0.738788   0.475415   2.340384   2.516038  -0.551440  \n",
       "\n",
       "[5 rows x 34 columns]"
      ]
     },
     "execution_count": 4,
     "metadata": {},
     "output_type": "execute_result"
    }
   ],
   "source": [
    "sbm_df_labeled = pd.concat([labels, sbm_df_unlabeled.drop('Id',1)], axis=1)\n",
    "sbm_df_labeled.head(5)"
   ]
  },
  {
   "cell_type": "code",
   "execution_count": 5,
   "metadata": {
    "collapsed": false
   },
   "outputs": [],
   "source": [
    "data_fnc = fnc_df_labeled.as_matrix()\n",
    "pca_fnc = PCA(n_components=2)\n",
    "pca_fnc_data = pca_fnc.fit(data_fnc[:,2:]).transform(data_fnc[:,2:])"
   ]
  },
  {
   "cell_type": "code",
   "execution_count": 6,
   "metadata": {
    "collapsed": false,
    "scrolled": true
   },
   "outputs": [],
   "source": [
    "pca_data_fnc_labeled = np.concatenate((data_fnc[:,1].reshape(data_fnc.shape[0],1), pca_fnc_data),axis=1)"
   ]
  },
  {
   "cell_type": "code",
   "execution_count": 7,
   "metadata": {
    "collapsed": true
   },
   "outputs": [],
   "source": [
    "# Split data into diagnosed and undiagnosed\n",
    "pca_fnc_diag = pca_fnc_data[pca_data_fnc_labeled[:,0]==1.0]\n",
    "pca_fnc_undiag = pca_fnc_data[pca_data_fnc_labeled[:,0]==0.0]"
   ]
  },
  {
   "cell_type": "code",
   "execution_count": 8,
   "metadata": {
    "collapsed": false
   },
   "outputs": [
    {
     "name": "stdout",
     "output_type": "stream",
     "text": [
      "Populating the interactive namespace from numpy and matplotlib\n"
     ]
    }
   ],
   "source": [
    "# Plot the fnc data\n",
    "%pylab qt\n",
    "fig = plt.figure(figsize=(8,8))\n",
    "ax = fig.add_subplot(111)\n",
    "plt.rcParams['legend.fontsize'] = 10 \n",
    "ax.plot(pca_fnc_diag[:,0],pca_fnc_diag[:,1], 'o', markersize=8, color='red', alpha=0.5, label='Diagnosed')\n",
    "ax.plot(pca_fnc_undiag[:,0],pca_fnc_undiag[:,1], '^', markersize=8, color='blue', alpha=0.5, label='Undiagnosed')\n",
    "plt.title('PCA of FNC dataset')\n",
    "ax.legend(loc='upper right')\n",
    "\n",
    "plt.show()\n"
   ]
  },
  {
   "cell_type": "code",
   "execution_count": 9,
   "metadata": {
    "collapsed": true
   },
   "outputs": [],
   "source": [
    "data_sbm = sbm_df_labeled.as_matrix()\n",
    "pca_sbm = PCA(n_components=2)\n",
    "pca_sbm_data = pca_sbm.fit(data_sbm[:,2:]).transform(data_sbm[:,2:])"
   ]
  },
  {
   "cell_type": "code",
   "execution_count": 10,
   "metadata": {
    "collapsed": true
   },
   "outputs": [],
   "source": [
    "pca_data_sbm_labeled = np.concatenate((data_sbm[:,1].reshape(data_sbm.shape[0],1), pca_sbm_data),axis=1)"
   ]
  },
  {
   "cell_type": "code",
   "execution_count": 11,
   "metadata": {
    "collapsed": true
   },
   "outputs": [],
   "source": [
    "# Split data into diagnosed and undiagnosed\n",
    "pca_sbm_diag = pca_sbm_data[pca_data_sbm_labeled[:,0]==1.0]\n",
    "pca_sbm_undiag = pca_sbm_data[pca_data_sbm_labeled[:,0]==0.0]"
   ]
  },
  {
   "cell_type": "code",
   "execution_count": 12,
   "metadata": {
    "collapsed": false
   },
   "outputs": [
    {
     "name": "stdout",
     "output_type": "stream",
     "text": [
      "Populating the interactive namespace from numpy and matplotlib\n"
     ]
    }
   ],
   "source": [
    "# Plot the fnc data\n",
    "%pylab qt\n",
    "fig = plt.figure(figsize=(8,8))\n",
    "ax = fig.add_subplot(111)\n",
    "plt.rcParams['legend.fontsize'] = 10 \n",
    "ax.plot(pca_sbm_diag[:,0],pca_sbm_diag[:,1], 'o', markersize=8, color='red', alpha=0.5, label='Diagnosed')\n",
    "ax.plot(pca_sbm_undiag[:,0],pca_sbm_undiag[:,1], '^', markersize=8, color='blue', alpha=0.5, label='Undiagnosed')\n",
    "plt.title('PCA of SBM dataset')\n",
    "ax.legend(loc='upper right')\n",
    "\n",
    "plt.show()"
   ]
  },
  {
   "cell_type": "code",
   "execution_count": null,
   "metadata": {
    "collapsed": true
   },
   "outputs": [],
   "source": []
  }
 ],
 "metadata": {
  "kernelspec": {
   "display_name": "Python 2",
   "language": "python",
   "name": "python2"
  },
  "language_info": {
   "codemirror_mode": {
    "name": "ipython",
    "version": 2
   },
   "file_extension": ".py",
   "mimetype": "text/x-python",
   "name": "python",
   "nbconvert_exporter": "python",
   "pygments_lexer": "ipython2",
   "version": "2.7.11"
  }
 },
 "nbformat": 4,
 "nbformat_minor": 0
}
